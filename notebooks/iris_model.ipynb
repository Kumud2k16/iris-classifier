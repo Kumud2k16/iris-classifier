{
 "cells": [
  {
   "cell_type": "code",
   "execution_count": null,
   "id": "017aea48",
   "metadata": {},
   "outputs": [
    {
     "name": "stdout",
     "output_type": "stream",
     "text": [
      "4 temperatures are above 22.0°C\n"
     ]
    }
   ],
   "source": [
    "temperatures = [22.5, 19.0, 27.3, 21.8, 23.4,25.1]\n",
    "threshold = 22.0\n",
    "count = 0\n",
    "\n",
    "for temp in temperatures:\n",
    "    if temp > threshold:\n",
    "        count += 1\n",
    "        7322233573\n",
    "\n",
    "print(f\"{count} temperatures are above {threshold}°C\")"
   ]
  },
  {
   "cell_type": "code",
   "execution_count": null,
   "id": "e2631473",
   "metadata": {},
   "outputs": [],
   "source": []
  }
 ],
 "metadata": {
  "kernelspec": {
   "display_name": "base",
   "language": "python",
   "name": "python3"
  },
  "language_info": {
   "codemirror_mode": {
    "name": "ipython",
    "version": 3
   },
   "file_extension": ".py",
   "mimetype": "text/x-python",
   "name": "python",
   "nbconvert_exporter": "python",
   "pygments_lexer": "ipython3",
   "version": "3.13.5"
  }
 },
 "nbformat": 4,
 "nbformat_minor": 5
}
